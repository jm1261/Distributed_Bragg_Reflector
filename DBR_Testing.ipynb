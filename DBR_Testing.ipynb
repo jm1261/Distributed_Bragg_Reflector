{
 "cells": [
  {
   "cell_type": "markdown",
   "metadata": {},
   "source": [
    "# DBR Testing\n",
    "\n",
    "<div style=\"text-align: justify\">\n",
    "\n",
    "*13/05/2024*\n",
    "\n",
    "\n",
    "\n",
    "</div>"
   ]
  },
  {
   "cell_type": "code",
   "execution_count": null,
   "metadata": {},
   "outputs": [],
   "source": []
  }
 ],
 "metadata": {
  "language_info": {
   "name": "python"
  }
 },
 "nbformat": 4,
 "nbformat_minor": 2
}
